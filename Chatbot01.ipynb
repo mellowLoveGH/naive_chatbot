{
  "nbformat": 4,
  "nbformat_minor": 0,
  "metadata": {
    "colab": {
      "name": "Chatbot01.ipynb",
      "provenance": [],
      "collapsed_sections": []
    },
    "kernelspec": {
      "name": "python3",
      "display_name": "Python 3"
    }
  },
  "cells": [
    {
      "cell_type": "code",
      "metadata": {
        "id": "5PEhkpm6m8c_"
      },
      "source": [
        ""
      ],
      "execution_count": null,
      "outputs": []
    },
    {
      "cell_type": "code",
      "metadata": {
        "colab": {
          "base_uri": "https://localhost:8080/"
        },
        "id": "XBMs8FvMNmLk",
        "outputId": "3bba8ecf-4b46-4bc9-848e-fe10e4084834"
      },
      "source": [
        "from datetime import datetime\n",
        "from datetime import timedelta\n",
        "import json \n",
        "import requests\n",
        "\n",
        "URL = \"https://api.wit.ai/message\"\n",
        "API_KEY = \"6LLX376UX4FWFSX5KVNLSRPCXSECLGXE\"\n",
        "headers  = {\n",
        "\t\"Authorization\" : \"Bearer \" + API_KEY\n",
        "}\n",
        "\n",
        "class WitAPI(object):\n",
        "\tdef sendRequest(self, question):\n",
        "\t\tdate = datetime.now()\n",
        "\t\tdate = date.strftime(\"%Y%m%d\")\n",
        "\t\tresp = requests.get(URL + \"?v=\" + date + \"&q=\" + question, headers = headers)\n",
        "\t\tif resp.status_code != 200:\n",
        "\t\t    print('error: ' + str(resp.status_code))\n",
        "\t\t    return None\n",
        "\t\telse:\n",
        "\t\t    print('Success')\n",
        "\t\t    return resp.json()\n",
        "\n",
        "#! pip install timezonefinder[numba]\n",
        "from timezonefinder import TimezoneFinder\n",
        "from datetime import datetime\n",
        "import pytz\n",
        "\n",
        "class TimeChatbot(object):\n",
        "\tdef getTimezone(self, latitude, longitude):\n",
        "\t\ttf = TimezoneFinder()\n",
        "\t\treturn tf.timezone_at(lng=longitude, lat=latitude)\n",
        "\n",
        "\tdef getLocalTime(self, timeZone = None):\n",
        "\t\tif timeZone is None:\n",
        "\t\t\tdateTime = datetime.now()\n",
        "\t\telse:\n",
        "\t\t\ttz = pytz.timezone(timeZone)\n",
        "\t\t\tdateTime = datetime.now(tz)\n",
        "\t\t\n",
        "\t\treturn dateTime\n",
        "\n",
        "#! pip install ipregistry\n",
        "from ipregistry import IpregistryClient\n",
        "from geopy.geocoders import Nominatim\n",
        "import geopy.distance\n",
        "\n",
        "class Location(object):\n",
        "\tdef getLocation(self, place = None):\n",
        "\t\tif place is None:\n",
        "\t\t\tclient = IpregistryClient(\"fs9pbuwmnx5r2g\")  \n",
        "\t\t\tipInfo = client.lookup()\n",
        "\t\t\t#print(ipInfo)\n",
        "\t\t\treturn(ipInfo.location.get(\"latitude\"), ipInfo.location.get(\"longitude\"))\n",
        "\t\telse:\n",
        "\t\t\tgeolocator = Nominatim(user_agent=\"chatbot\")\n",
        "\t\t\tlocation = geolocator.geocode(place)\n",
        "\t\t\treturn (location.latitude, location.longitude)\n",
        "\n",
        "\tdef distanceByLatLong(self, lat1, long1, lat2 = None, long2 = None):\n",
        "\t\tif lat2 is None:\n",
        "\t\t\tcoord1 = (lat1, long1)\n",
        "\t\t\tcoord2 = self.getLocation()\n",
        "\t\telse:\n",
        "\t\t\tcoord1 = (lat1, long1)\n",
        "\t\t\tcoord2 = (lat2, long2)\n",
        "\n",
        "\t\treturn geopy.distance.distance(coord1, coord2).km\n",
        "\n",
        "# \n",
        "\n",
        "chatbot = WitAPI()\n",
        "question = 'nice to meet you'\n",
        "chatbot.sendRequest(question)\n",
        "\n",
        "loc = Location()\n",
        "lat1 = loc.getLocation()[0]\n",
        "long1 = loc.getLocation()[1]\n",
        "loc.distanceByLatLong(lat1, long1, 50, 100)\n",
        "\n",
        "time = TimeChatbot()\n",
        "time.getTimezone(lat1, long1)\n",
        "time.getLocalTime()\n",
        "\n",
        "loc.getLocation('New York')"
      ],
      "execution_count": null,
      "outputs": [
        {
          "output_type": "stream",
          "text": [
            "error: 500\n"
          ],
          "name": "stdout"
        },
        {
          "output_type": "execute_result",
          "data": {
            "text/plain": [
              "(40.7127281, -74.0060152)"
            ]
          },
          "metadata": {
            "tags": []
          },
          "execution_count": 91
        }
      ]
    },
    {
      "cell_type": "code",
      "metadata": {
        "colab": {
          "base_uri": "https://localhost:8080/"
        },
        "id": "4bKW-97UnzQY",
        "outputId": "6ed8895a-63f0-4ec5-9051-584ac276d83f"
      },
      "source": [
        "# you should install the package firstly\n",
        "#!pip install pyowm \n",
        "from pyowm import OWM\n",
        "from pyowm.utils import config\n",
        "from pyowm.utils import timestamps\n",
        "import json \n",
        "import requests\n",
        "\n",
        "class GeoInfo(object):\n",
        "  # you should go to this URL: https://home.openweathermap.org/api_keys\n",
        "    # to create your own key if you want to use this API\n",
        "  # more info about this API: https://openweathermap.org/api/one-call-api\n",
        "  api_key = \"817d0ac612d439a9fe94c38f889fab28\"\n",
        "  owm = OWM(api_key)\n",
        "  mgr = owm.weather_manager()\n",
        "\n",
        "  def __init__(self, lat=43.6532, long=-79.3832):\n",
        "    self.lat = lat\n",
        "    self.long = long\n",
        "    self.observation = mgr.weather_at_coords(self.lat, self.long)\n",
        "    self.w = self.observation.weather\n",
        "  \n",
        "  def get_temperature(self, lat=None, long=None, wtype='celsius'):\n",
        "    if lat is not None and long is not None:\n",
        "      self.lat = lat\n",
        "      self.long = long\n",
        "    self.observation = mgr.weather_at_coords(self.lat, self.long)\n",
        "    self.w = self.observation.weather\n",
        "    # print(w.temperature('celsius'))\n",
        "    # w.to_dict()\n",
        "    return w.temperature(wtype)\n",
        "  '''\n",
        "  def get_temperature(self, name='Toronto'):\n",
        "    observation = mgr.weather_at_place(name)\n",
        "    w = observation.weather\n",
        "    print(w.temperature('celsius'))\n",
        "    return w.to_dict()\n",
        "  '''\n",
        "\n",
        "  def get_weather(self):\n",
        "    return self.w.detailed_status\n",
        "  \n",
        "  # limit, how many POIs you want to retrieve\n",
        "  def get_point_of_interest(self, limit=5):\n",
        "    URL = \"https://discover.search.hereapi.com/v1/discover\"\n",
        "    latitude = self.lat\n",
        "    longitude = self.long\n",
        "    # get your key from developer.here.com\n",
        "    poi_key = 'IIlHrKDojjhW90OB3KCEp6Xu0l8FX13NAdgFxMx4HbM' \n",
        "    query = 'tourist attractions'\n",
        "    #print(latitude, longitude)\n",
        "    PARAMS = {\n",
        "          'apikey':poi_key,\n",
        "          'q':query,\n",
        "          'limit': limit,\n",
        "          'at':'{},{}'.format(latitude,longitude)\n",
        "          } \n",
        "    # sending request and getting the response as JSON\n",
        "    r = requests.get(url = URL, params = PARAMS) \n",
        "    data = r.json()\n",
        "    items = data['items']\n",
        "    attractions = []\n",
        "    # parse retrieved attractions data\n",
        "    for it in items:\n",
        "      att = 'distance: ' + str(it['distance']) + ', ' + it['address']['label']\n",
        "      attractions.append(att)\n",
        "    return attractions\n",
        "\n",
        "# test\n",
        "geoInfo = GeoInfo(22.2793278, 114.1628131)\n",
        "# 43.6532, -79.3832 - Toronto / the default lat and long\n",
        "# 51.5073219, -0.1276474 - London\n",
        "# 40.7127281, -74.0060152 - New York\n",
        "# 22.2793278, 114.1628131 - Hong Kong\n",
        "# 39.906217, 116.3912757 - Beijing\n",
        "\n",
        "temp = geoInfo.get_temperature()\n",
        "wth = geoInfo.get_weather()\n",
        "poi = geoInfo.get_point_of_interest(3)\n",
        "\n",
        "print('temperature: ', temp)\n",
        "print('weather: ', wth)\n",
        "print('POI: ', poi)"
      ],
      "execution_count": null,
      "outputs": [
        {
          "output_type": "stream",
          "text": [
            "temperature:  {'temp': 11.25, 'temp_max': 12.78, 'temp_min': 10.0, 'feels_like': 10.18, 'temp_kf': None}\n",
            "weather:  broken clouds\n",
            "POI:  ['distance: 110, Admiralty, De LiJie, Central, Hong Kong, Hong Kong SAR', 'distance: 227, 애버딘 항구, Xiang GangGong Yuan, Central, Hong Kong, Hong Kong SAR', 'distance: 227, Hong Kong SARHong KongCentralXiang GangGong YuanHong Kong And Macau Low Cost Tours']\n"
          ],
          "name": "stdout"
        }
      ]
    },
    {
      "cell_type": "code",
      "metadata": {
        "id": "ZB-WzfwT9tRz"
      },
      "source": [
        "# reference: https://developer.here.com/blog/discovering-nearby-places-using-python-flask\n",
        "\n",
        "\n",
        "URL = \"https://discover.search.hereapi.com/v1/discover\"\n",
        "latitude = lat1\n",
        "longitude = long1\n",
        "poi_key = 'IIlHrKDojjhW90OB3KCEp6Xu0l8FX13NAdgFxMx4HbM' # Acquire from developer.here.com\n",
        "query = 'attraction'\n",
        "limit = 5\n",
        "\n",
        "PARAMS = {\n",
        "      'apikey':poi_key,\n",
        "      'q':query,\n",
        "      'limit': limit,\n",
        "      'at':'{},{}'.format(latitude,longitude)\n",
        "      } \n",
        "# sending get request and saving the response as response object \n",
        "r = requests.get(url = URL, params = PARAMS) \n",
        "data = r.json()\n",
        "data\n",
        "items = data['items']\n"
      ],
      "execution_count": null,
      "outputs": []
    },
    {
      "cell_type": "code",
      "metadata": {
        "colab": {
          "base_uri": "https://localhost:8080/"
        },
        "id": "cH4mbskzDFET",
        "outputId": "c6811ecb-f254-441b-bbc6-3114d2c35875"
      },
      "source": [
        "for it in items:\n",
        "  print(it)\n",
        "  print( 'distance: ', it['distance'], ', \\t', it['address']['label'] )"
      ],
      "execution_count": null,
      "outputs": [
        {
          "output_type": "stream",
          "text": [
            "{'title': 'Dalles Art Center', 'id': 'here:pds:place:840c21g6-f75615f5483342c5a1bfdaeec905561f', 'ontologyId': 'here:cm:ontology:tourist_attraction', 'resultType': 'place', 'address': {'label': 'Dalles Art Center, 220 E 4th St, The Dalles, OR 97058, United States', 'countryCode': 'USA', 'countryName': 'United States', 'stateCode': 'OR', 'state': 'Oregon', 'county': 'Wasco', 'city': 'The Dalles', 'street': 'E 4th St', 'postalCode': '97058', 'houseNumber': '220'}, 'position': {'lat': 45.59998, 'lng': -121.18361}, 'access': [{'lat': 45.60018, 'lng': -121.18346}], 'distance': 709, 'categories': [{'id': '300-3000-0023', 'name': 'Tourist Attraction', 'primary': True}, {'id': '300-3000-0024', 'name': 'Gallery'}, {'id': '300-3100-0000', 'name': 'Museum'}, {'id': '600-6900-0103', 'name': 'Gift, Antique & Art'}], 'references': [{'supplier': {'id': 'core'}, 'id': '1049286337'}, {'supplier': {'id': 'tripadvisor'}, 'id': '7852250'}, {'supplier': {'id': 'yelp'}, 'id': 'Q00O1zTk4d0-KDbl4wfYBQ'}], 'contacts': [{'phone': [{'value': '+15412964759'}], 'www': [{'value': 'http://www.thedallesartcenter.org', 'categories': [{'id': '300-3000-0023'}, {'id': '300-3000-0024'}, {'id': '300-3100-0000'}]}]}]}\n",
            "distance:  709 , \t Dalles Art Center, 220 E 4th St, The Dalles, OR 97058, United States\n",
            "{'title': \"Old St. Peter's Landmark\", 'id': 'here:pds:place:840c21g6-b5ff3bafad4a4763bb9350a0ae1a9f9a', 'ontologyId': 'here:cm:ontology:tourist_attraction', 'resultType': 'place', 'address': {'label': \"Old St. Peter's Landmark, 405 Lincoln St, The Dalles, OR 97058, United States\", 'countryCode': 'USA', 'countryName': 'United States', 'stateCode': 'OR', 'state': 'Oregon', 'county': 'Wasco', 'city': 'The Dalles', 'street': 'Lincoln St', 'postalCode': '97058', 'houseNumber': '405'}, 'position': {'lat': 45.60275, 'lng': -121.18762}, 'access': [{'lat': 45.60261, 'lng': -121.18731}], 'distance': 1141, 'categories': [{'id': '300-3000-0025', 'name': 'Historical Monument', 'primary': True}, {'id': '200-2000-0000', 'name': 'Nightlife-Entertainment'}, {'id': '300-3000-0000', 'name': 'Landmark-Attraction'}, {'id': '300-3000-0023', 'name': 'Tourist Attraction'}], 'references': [{'supplier': {'id': 'core'}, 'id': '17214171'}, {'supplier': {'id': 'tripadvisor'}, 'id': '4176757'}, {'supplier': {'id': 'yelp'}, 'id': 'aDJqe2iuheHK14fh8jYOuA'}], 'contacts': [{'phone': [{'value': '+15412965686'}], 'fax': [{'value': '(651) 501-6307', 'categories': [{'id': '300-3000-0025'}]}], 'www': [{'value': 'http://www.oldstpeterslandmark.org'}]}], 'openingHours': [{'categories': [{'id': '300-3000-0000'}, {'id': '300-3000-0025'}], 'text': ['Tue-Fri: 11:00 - 15:00', 'Sat, Sun: 13:00 - 15:00'], 'isOpen': False, 'structured': [{'start': 'T110000', 'duration': 'PT04H00M', 'recurrence': 'FREQ:DAILY;BYDAY:TU,WE,TH,FR'}, {'start': 'T130000', 'duration': 'PT02H00M', 'recurrence': 'FREQ:DAILY;BYDAY:SA,SU'}]}]}\n",
            "distance:  1141 , \t Old St. Peter's Landmark, 405 Lincoln St, The Dalles, OR 97058, United States\n",
            "{'title': 'The Dalles Dam', 'id': 'here:pds:place:840c21g7-3e27e76dfec1431c939fdf47be160b2b', 'ontologyId': 'here:cm:ontology:tourist_attraction', 'resultType': 'place', 'address': {'label': 'The Dalles Dam, The Dalles, OR 97058, United States', 'countryCode': 'USA', 'countryName': 'United States', 'stateCode': 'OR', 'state': 'Oregon', 'county': 'Wasco', 'city': 'The Dalles', 'postalCode': '97058'}, 'position': {'lat': 45.61095, 'lng': -121.12458}, 'access': [{'lat': 45.61095, 'lng': -121.12458}], 'distance': 4589, 'categories': [{'id': '300-3000-0023', 'name': 'Tourist Attraction', 'primary': True}, {'id': '300-3000-0000', 'name': 'Landmark-Attraction'}], 'references': [{'supplier': {'id': 'core'}, 'id': '17214974'}, {'supplier': {'id': 'tripadvisor'}, 'id': '10632302'}, {'supplier': {'id': 'yelp'}, 'id': 'zcu8XyCnT8e8qPmLAQZWdA'}], 'contacts': [{'phone': [{'value': '+15412961181', 'categories': [{'id': '300-3000-0000'}]}, {'value': '+15412969778'}]}], 'openingHours': [{'categories': [{'id': '300-3000-0000'}], 'text': ['Mon-Sun: 09:00 - 17:00'], 'isOpen': False, 'structured': [{'start': 'T090000', 'duration': 'PT08H00M', 'recurrence': 'FREQ:DAILY;BYDAY:MO,TU,WE,TH,FR,SA,SU'}]}]}\n",
            "distance:  4589 , \t The Dalles Dam, The Dalles, OR 97058, United States\n",
            "{'title': 'Garnier Vineyards', 'id': 'here:pds:place:840c21ez-846ea980728a4abfaf1a8f9d54987017', 'ontologyId': 'here:cm:ontology:tourist_attraction', 'resultType': 'place', 'address': {'label': 'Garnier Vineyards, US-30, The Dalles, OR 97058, United States', 'countryCode': 'USA', 'countryName': 'United States', 'stateCode': 'OR', 'state': 'Oregon', 'county': 'Wasco', 'city': 'The Dalles', 'street': 'US-30', 'postalCode': '97058'}, 'position': {'lat': 45.6795, 'lng': -121.31392}, 'access': [{'lat': 45.67941, 'lng': -121.31377}], 'distance': 14129, 'categories': [{'id': '300-3000-0023', 'name': 'Tourist Attraction', 'primary': True}], 'contacts': [{'phone': [{'value': '+15036823633'}]}]}\n",
            "distance:  14129 , \t Garnier Vineyards, US-30, The Dalles, OR 97058, United States\n",
            "{'title': 'Analemma Wines', 'id': 'here:pds:place:840aabd1-e02b299558420c3e4f77b2bf109c2818', 'ontologyId': 'here:cm:ontology:tourist_attraction', 'resultType': 'place', 'address': {'label': 'Analemma Wines, 1120 State Rd, Mosier, OR 97040, United States', 'countryCode': 'USA', 'countryName': 'United States', 'stateCode': 'OR', 'state': 'Oregon', 'county': 'Wasco', 'city': 'Mosier', 'street': 'State Rd', 'postalCode': '97040', 'houseNumber': '1120'}, 'position': {'lat': 45.6815, 'lng': -121.37153}, 'access': [{'lat': 45.68221, 'lng': -121.37161}], 'distance': 17835, 'categories': [{'id': '200-2000-0011', 'name': 'Bar or Pub', 'primary': True}, {'id': '300-3000-0000', 'name': 'Landmark-Attraction'}, {'id': '300-3000-0023', 'name': 'Tourist Attraction'}, {'id': '300-3000-0065', 'name': 'Winery'}, {'id': '600-6300-0068', 'name': 'Wine & Liquor'}], 'references': [{'supplier': {'id': 'tripadvisor'}, 'id': '8613872'}, {'supplier': {'id': 'yelp'}, 'id': 'Rp3j2Y2_nmwCyp4PKyYbdA'}], 'contacts': [{'phone': [{'value': '+15414782873'}], 'www': [{'value': 'http://www.analemmawines.com', 'categories': [{'id': '200-2000-0011'}, {'id': '300-3000-0000'}, {'id': '300-3000-0065'}, {'id': '600-6300-0068'}]}]}], 'openingHours': [{'categories': [{'id': '300-3000-0065'}], 'text': ['Fri-Sun: 12:00 - 18:00'], 'isOpen': False, 'structured': [{'start': 'T120000', 'duration': 'PT06H00M', 'recurrence': 'FREQ:DAILY;BYDAY:FR,SA,SU'}]}, {'categories': [{'id': '200-2000-0011'}], 'text': ['Mon-Thu: 00:00 - 24:00', 'Fri-Sun: 12:00 - 18:00'], 'isOpen': True, 'structured': [{'start': 'T000000', 'duration': 'PT24H00M', 'recurrence': 'FREQ:DAILY;BYDAY:MO,TU,WE,TH'}, {'start': 'T120000', 'duration': 'PT06H00M', 'recurrence': 'FREQ:DAILY;BYDAY:FR,SA,SU'}]}]}\n",
            "distance:  17835 , \t Analemma Wines, 1120 State Rd, Mosier, OR 97040, United States\n"
          ],
          "name": "stdout"
        }
      ]
    },
    {
      "cell_type": "code",
      "metadata": {
        "id": "msiawBTeooRt"
      },
      "source": [
        "w.detailed_status\n",
        "w.wind()   \n",
        "w.humidity   \n",
        "w.temperature('celsius')\n",
        "w.rain \n",
        "w.heat_index\n",
        "w.clouds\n",
        "\n",
        "mgr.one_call(lat1, long1)\n",
        "ob = mgr.weather_at_coords(lat1, long1)\n",
        "ob = mgr.weather_at_place('Beijing')\n",
        "ob.location\n",
        "ob.rec_time\n",
        "w = ob.weather\n",
        "print(w.temperature('celsius'))\n",
        "w.to_dict()\n",
        "\n",
        "'''\n",
        "\n",
        "import requests, json \n",
        "api_key = \"817d0ac612d439a9fe94c38f889fab28\"\n",
        "# 817d0ac612d439a9fe94c38f889fab28\n",
        "\n",
        "#https://api.openweathermap.org/data/2.5/onecall?lat={lat}&lon={lon}&exclude={part}&appid={API key}\n",
        "base_URL = 'https://api.openweathermap.org/data/2.5/onecall?'\n",
        "\n",
        "req = base_URL + 'lat={'+str(lat1)+\"}&lon={\"+str(long1)+'}&appid{'+api_key+'}'\n",
        "\n",
        "\"\"\"\n",
        "base_url = \"http://api.openweathermap.org/data/2.5/weather?\"\n",
        "city_name = input(\"Enter city name : \") \n",
        "complete_url = base_url + \"appid=\" + api_key + \"&q=\" + city_name \n",
        "response = requests.get(complete_url) \n",
        "x = response.json() \n",
        "\"\"\"\n",
        "req\n",
        "response = requests.get(req) \n",
        "x = response.json() \n",
        "x\n",
        "'''"
      ],
      "execution_count": null,
      "outputs": []
    }
  ]
}