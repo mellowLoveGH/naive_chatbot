{
  "nbformat": 4,
  "nbformat_minor": 0,
  "metadata": {
    "colab": {
      "name": "translate_01.ipynb",
      "provenance": [],
      "collapsed_sections": []
    },
    "kernelspec": {
      "name": "python3",
      "display_name": "Python 3"
    },
    "language_info": {
      "name": "python"
    }
  },
  "cells": [
    {
      "cell_type": "code",
      "metadata": {
        "colab": {
          "base_uri": "https://localhost:8080/"
        },
        "id": "J56xMjTQF9Yv",
        "outputId": "d6c858ab-7de2-4dcc-a3da-a847d3bf4623"
      },
      "source": [
        "#!pip install google_trans_new\n",
        "# https://github.com/lushan88a/google_trans_new/blob/main/google_trans_new.py\n",
        "\n",
        "from google_trans_new import google_translator  \n",
        "translator = google_translator()  \n",
        "translate_text = translator.translate('สวัสดีจีน',lang_tgt='en')  \n",
        "#print(translate_text)\n",
        "#output: Hello china\n",
        "translator.translate('안녕하세요.')\n",
        "translator.translate('안녕하세요.', lang_tgt='zh')\n",
        "translator.detect('안녕하세요.')\n",
        "\n",
        "Pronounce = translator.translate('안녕하세요',lang_src='ko',lang_tgt='zh',pronounce=True)  \n",
        "print(Pronounce)"
      ],
      "execution_count": null,
      "outputs": [
        {
          "output_type": "stream",
          "text": [
            "['你好 ', 'annyeonghaseyo', 'Nǐ hǎo']\n"
          ],
          "name": "stdout"
        }
      ]
    },
    {
      "cell_type": "code",
      "metadata": {
        "colab": {
          "base_uri": "https://localhost:8080/",
          "height": 143
        },
        "id": "Ch8pRJCdkXth",
        "outputId": "05afaccb-ac02-4ebb-fceb-4a531312aba3"
      },
      "source": [
        "# -------------------------------------------\n",
        "# Google Translate - translate parts of the conversation into another language\n",
        "#!pip install -U deep_translator\n",
        "from deep_translator import GoogleTranslator\n",
        "\n",
        "# get Supported Languages as list\n",
        "def getLang1():\n",
        "  langs_list = GoogleTranslator.get_supported_languages()\n",
        "  return langs_list\n",
        "\n",
        "# get Supported Languages as dict\n",
        "def getLang2():\n",
        "  langs_dict = GoogleTranslator.get_supported_languages(as_dict=True)\n",
        "  return langs_dict\n",
        "\n",
        "def getLangCode(lang):\n",
        "  lang = lang.lower()\n",
        "  lang = lang.strip()\n",
        "  langs_dict = getLang2()\n",
        "  return langs_dict[lang]\n",
        "\n",
        "class GOOGLE_translate(object):\n",
        "  def google_translate(lang, text):\n",
        "    code = 'en' # defult lang is English\n",
        "    try:\n",
        "      code = getLangCode(lang)\n",
        "    except:\n",
        "      print('there is no such language, please check your spelling')\n",
        "      code = 'en'\n",
        "    #\n",
        "    try:\n",
        "      translated = GoogleTranslator(source='auto', target=code).translate(text)\n",
        "      return translated\n",
        "    except:\n",
        "      return 'sorry,cannot translate'\n",
        "    return 'cannot connect to server'\n",
        "\n",
        "  # 'chinese': 'zh',\n",
        "  # 'chinese (simplified)': 'zh-cn',\n",
        "  # 'chinese (traditional)': 'zh-tw',\n",
        "  # 'japanese': 'ja'\n",
        "  # 'english': 'en',\n",
        "  # 'french': 'fr',\n",
        "text = \"keep it up, you are awesome\"\n",
        "lang = 'Japanese'\n",
        "\n",
        "GOOGLE_translate.google_translate(lang, text)\n",
        "\n",
        "# -------------------------------------------\n",
        "# Wikipedia API - extract knowledge from definitions for your own conversation use\n",
        "  # first-time, you need to install wikipedia package\n",
        "\n",
        "#!pip3 install wikipedia-api\n",
        "import wikipediaapi\n",
        "\n",
        "class Wiki_API(object):\n",
        "  def definition(content, how_long=200):\n",
        "    # set the language for wiki\n",
        "    wiki_wiki = wikipediaapi.Wikipedia('en')\n",
        "    # preprocess, extract the phrase\n",
        "    content = content.replace('define', '').strip()\n",
        "    # search it on wiki\n",
        "    page_py = wiki_wiki.page(content)\n",
        "    # if existing\n",
        "    if page_py.exists():\n",
        "      if how_long==-1:\n",
        "        con = page_py.summary\n",
        "      else:\n",
        "        con = page_py.summary[0:how_long]\n",
        "      return con\n",
        "    # when not existing\n",
        "    else:\n",
        "      return 'sorry, no such page for ' + content\n",
        "    return page_py\n",
        "\n",
        "# search the definition pattern: what is New York\n",
        "content = 'define Java programming language'\n",
        "how_long = -1\n",
        "result = Wiki_API.definition(content, how_long)\n",
        "\n",
        "result\n"
      ],
      "execution_count": 73,
      "outputs": [
        {
          "output_type": "execute_result",
          "data": {
            "application/vnd.google.colaboratory.intrinsic+json": {
              "type": "string"
            },
            "text/plain": [
              "\"Java is a class-based, object-oriented programming language that is designed to have as few implementation dependencies as possible. It is a general-purpose programming language intended to let application developers write once, run anywhere (WORA), meaning that compiled Java code can run on all platforms that support Java without the need for recompilation. Java applications are typically compiled to bytecode that can run on any Java virtual machine (JVM) regardless of the underlying computer architecture. The syntax of Java is similar to C and C++, but has fewer low-level facilities than either of them. The Java runtime provides dynamic capabilities (such as reflection and runtime code modification) that are typically not available in traditional compiled languages. As of 2019, Java was one of the most popular programming languages in use according to GitHub, particularly for client-server web applications, with a reported 9 million developers.Java was originally developed by James Gosling at Sun Microsystems (which has since been acquired by Oracle) and released in 1995 as a core component of Sun Microsystems' Java platform. The original and reference implementation Java compilers, virtual machines, and class libraries were originally released by Sun under proprietary licenses. As of May 2007, in compliance with the specifications of the Java Community Process, Sun had relicensed most of its Java technologies under the GNU General Public License. Oracle offers its own HotSpot Java Virtual Machine, however the official reference implementation is the OpenJDK JVM which is free open source software and used by most developers and is the default JVM for almost all Linux distributions. \\nAs of March 2021, the latest version is Java 16, with Java 11, a currently supported long-term support (LTS) version, released on September 25, 2018. Oracle released the last zero-cost public update for the legacy version Java 8 LTS in January 2019 for commercial use, although it will otherwise still support Java 8 with public updates for personal use indefinitely. Other vendors have begun to offer zero-cost builds of OpenJDK 8 and 11 that are still receiving security and other upgrades.\\nOracle (and others) highly recommend uninstalling outdated versions of Java because of serious risks due to unresolved security issues. Since Java 9, 10, 12, 13, 14, and 15 are no longer supported, Oracle advises its users to immediately transition to the latest version (currently Java 16) or an LTS release.\""
            ]
          },
          "metadata": {
            "tags": []
          },
          "execution_count": 73
        }
      ]
    },
    {
      "cell_type": "code",
      "metadata": {
        "colab": {
          "base_uri": "https://localhost:8080/"
        },
        "id": "8HVCsaxFGHUO",
        "outputId": "ee45b614-1e36-4a5d-a84c-de3d1636aa36"
      },
      "source": [
        "\"\"\"!pip uninstall googletrans googletrans-temp\n",
        "!pip install googletrans-temp\"\"\"\n",
        "\n",
        "\"\"\"\n",
        "import googletrans\n",
        "from googletrans import Translator\n",
        "\n",
        "#translator.translate('안녕하세요.')\n",
        "#translator.translate('안녕하세요.', dest='ja')\n",
        "\n",
        "# how many languages the translator supports\n",
        "def basicInfo():\n",
        "  lang_col = googletrans.LANGUAGES\n",
        "  for i in lang_col:\n",
        "    print(i, lang_col[i])\n",
        "  return\n",
        "\n",
        "translator = Translator(service_urls=[ 'translate.google.com',])\n",
        "text = translator.translate('how do you do',src='en',dest='zh-cn').text \n",
        "\"\"\"\n",
        "\n",
        "print('')"
      ],
      "execution_count": null,
      "outputs": [
        {
          "output_type": "stream",
          "text": [
            "\n"
          ],
          "name": "stdout"
        }
      ]
    },
    {
      "cell_type": "code",
      "metadata": {
        "colab": {
          "base_uri": "https://localhost:8080/",
          "height": 107
        },
        "id": "B7SLj_F9ImGZ",
        "outputId": "295b5e39-4b5d-4325-ff3a-4318ccb7a1d1"
      },
      "source": [
        "from json import loads\n",
        "from requests import post\n",
        "\n",
        "# -------------------------------------------\n",
        "# Bing Translate API - translate parts of the conversation into another language\n",
        "\n",
        "# using Microsoft's Bing Translation API\n",
        "# to translate from one language to another\n",
        "def translate(text, to='en', fromLang=\"auto-detect\"):\n",
        "  return send_request(text, to, fromLang, True)\n",
        "\n",
        "# detect the language of the content\n",
        "def language(text, to='en', fromLang=\"auto-detect\"):\n",
        "  return send_request(text, to, fromLang, False)\n",
        "\n",
        "\n",
        "# translate_or_detect, translate language or detect language\n",
        "# true: translate, false: detect\n",
        "def send_request(text, to='en', fromLang=\"auto-detect\", translate_or_detect = True):\n",
        "  # when sending the request, basic info\n",
        "  HEADERS = {\n",
        "      \"Host\": \"www.bing.com\",\n",
        "      \"User-Agent\": \"Mozilla/5.0 (Windows NT 6.1; WOW64; rv:52.0) Gecko/20100101 Firefox/52.0\",\n",
        "      \"Accept\": \"*/*\",\n",
        "      \"Accept-Language\": \"en-US,en;q=0.5\",\n",
        "      \"Accept-Encoding\": \"gzip, deflate\",\n",
        "      \"Referer\": \"https://www.bing.com/\",\n",
        "      \"Content-Type\": \"application/x-www-form-urlencoded\",\n",
        "      \"Connection\": \"keep-alive\"\n",
        "  }\n",
        "  PARAMS = {'IG' : '839D27F8277F4AA3B0EDB83C255D0D70', 'IID' : 'translator.5033.3'}\n",
        "  bing_URL = \"https://www.bing.com/ttranslatev3\"\n",
        "  # form request and post it\n",
        "  request = post(bing_URL, headers=HEADERS, params=PARAMS, data={'text': str(text), 'fromLang': str(fromLang), 'to': str(to) })\n",
        "  # get result and parse\n",
        "  if request.status_code < 400:\n",
        "    if translate_or_detect:\n",
        "      try:\n",
        "        trans = loads(request.text)[0][\"translations\"][0][\"text\"]\n",
        "        return trans\n",
        "      except:\n",
        "        return 'sorry, cannot translate to the language: ' + to\n",
        "    else:\n",
        "      try:\n",
        "        detectedLanguage = loads(request.text)[0][\"detectedLanguage\"]\n",
        "        return detectedLanguage[\"language\"]\n",
        "      except:\n",
        "        return 'sorry, cannot detect the language'   \n",
        "  return 'cannot connect to the server/bing'\n",
        "\n",
        "\n",
        "# here see the abbreviation for different languages\n",
        "# https://docs.microsoft.com/en-us/azure/cognitive-services/translator/language-support\n",
        "toLang = 'ja'\n",
        "toLang = 'fr'\n",
        "# ja: japanese\n",
        "# fr: french\n",
        "# zh-Hans: simplified Chinese\n",
        "content = 'how far it is from new york to london'\n",
        "content = 'what is the weather in canada'\n",
        "content = '北京天气怎么样'\n",
        "lang = language(content)\n",
        "fromLang = lang\n",
        "fromLang\n",
        "toLang = 'zh-Hans'\n",
        "toLang = 'ja'\n",
        "toLang = 'en'\n",
        "trans = translate(content, toLang, fromLang)\n",
        "trans\n",
        "\n",
        "# -------------------------------------------\n",
        "# Wikipedia API - extract knowledge from definitions for your own conversation use\n",
        "  # first-time, you need to install wikipedia package\n",
        "# !pip install wikipedia\n",
        "import wikipedia\n",
        "\n",
        "# basic & simple preprocess\n",
        "def pre_process(search_content):\n",
        "  search_content = search_content.lower()\n",
        "  search_content = search_content.replace('what is', '')\n",
        "  search_content = search_content.strip()\n",
        "  return search_content\n",
        "\n",
        "# search definition\n",
        "def search_definition(search_content, top_results=5, sentences_long=3, details=False):\n",
        "  # get the correct query if there is some mis-spelling\n",
        "  if wikipedia.suggest(search_content) is not None:\n",
        "    search_content = wikipedia.suggest(search_content)\n",
        "    print('do you mean: ', search_content)\n",
        "  search_content = wikipedia.search(search_content, results = 5)\n",
        "  print('which do you mean: ', search_content[1:])\n",
        "  # there maybe some ambiguations, \n",
        "  # DisambiguationError, search the first one\n",
        "  if isinstance(search_content, list):\n",
        "    print('just choose the first one: ', search_content[1])\n",
        "    # see the definition\n",
        "    if details:\n",
        "      det = wikipedia.page(search_content[1])\n",
        "      dic = {}\n",
        "      dic['title'] = det.title\n",
        "      dic['url'] = det.url\n",
        "      dic['content'] = det.content[:200]\n",
        "      dic['images'] = det.images[:1]\n",
        "      dic['links'] = det.links[:1]\n",
        "      dic['references'] = det.references[:1]\n",
        "      dic['categories'] = det.categories[:1]\n",
        "      return dic\n",
        "    else:\n",
        "      search_content = wikipedia.summary(search_content[1], sentences=sentences_long)\n",
        "      return search_content\n",
        "  # no ambiguation, just search it\n",
        "  elif isinstance(search_content, str):\n",
        "    search_content = wikipedia.summary(search_content, sentences=sentences_long)\n",
        "    return search_content\n",
        "  \n",
        "  # wikipedia.geosearch(37.787, -122.4) search for altitude & longitude\n",
        "  # wikipedia.languages(), set_lang\n",
        "  # if necessary\n",
        "  return 'sorry, cannot search, there may be something wrong'\n",
        "\n",
        "# search the definition pattern: what is New York\n",
        "search_content = 'what is new york'\n",
        "search_content = pre_process(search_content)\n",
        "\n",
        "top_results=5\n",
        "sentences_long=3\n",
        "details=False\n",
        "search_content = search_definition(search_content, top_results, sentences_long, details)\n",
        "\n",
        "search_content"
      ],
      "execution_count": 90,
      "outputs": [
        {
          "output_type": "stream",
          "text": [
            "which do you mean:  ['New York City', 'New York (state)', 'List of United States representatives from New York', 'The New York Times']\n",
            "just choose the first one:  New York City\n"
          ],
          "name": "stdout"
        },
        {
          "output_type": "execute_result",
          "data": {
            "application/vnd.google.colaboratory.intrinsic+json": {
              "type": "string"
            },
            "text/plain": [
              "'New York City (NYC), often simply called New York, is the most populous city in the United States. With an estimated 2019 population of 8,336,817 distributed over about 302.6 square miles (784 km2), New York City is also the most densely populated major city in the United States. Located at the southern tip of the State of New York, the city is the center of the New York metropolitan area, the largest metropolitan area in the world by urban landmass.'"
            ]
          },
          "metadata": {
            "tags": []
          },
          "execution_count": 90
        }
      ]
    }
  ]
}