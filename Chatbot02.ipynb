{
  "nbformat": 4,
  "nbformat_minor": 0,
  "metadata": {
    "colab": {
      "name": "Chatbot02.ipynb",
      "provenance": [],
      "collapsed_sections": []
    },
    "kernelspec": {
      "name": "python3",
      "display_name": "Python 3"
    }
  },
  "cells": [
    {
      "cell_type": "code",
      "metadata": {
        "colab": {
          "base_uri": "https://localhost:8080/"
        },
        "id": "4XEIgnConOkI",
        "outputId": "783ed18e-9cb7-479d-a31c-5d6ced5e355f"
      },
      "source": [
        "reply = ChatbotResponse.getResponse(\"how far is kelowna from vancouver?\")\n",
        "print(reply)"
      ],
      "execution_count": null,
      "outputs": [
        {
          "output_type": "stream",
          "text": [
            "Success\n",
            "The distance between kelowna and vancouver is 270.78457831176075km.\n"
          ],
          "name": "stdout"
        }
      ]
    },
    {
      "cell_type": "code",
      "metadata": {
        "colab": {
          "base_uri": "https://localhost:8080/"
        },
        "id": "r-KpS-WKoo04",
        "outputId": "620e14f2-ad90-4b5f-fa54-1c2cf77d0911"
      },
      "source": [
        "wa = WitAPI()\n",
        "lc = Location()\n",
        "rf = ResponseFormat()\n",
        "tc = TimeChatbot()\n",
        "gi = GeoInfo()\n",
        "\n",
        "import json\n",
        "\"\"\"from witapi import WitAPI as wa\n",
        "from location import Location as lc\n",
        "from responseformat import ResponseFormat as rf\n",
        "from timechatbot import TimeChatbot as tc\n",
        "from geoInfo import GeoInfo as gi\"\"\"\n",
        "\n",
        "\n",
        "witIntents = {\n",
        "\t'get_distance' : lc.distanceByLatLong,\n",
        "\t'get_time_difference' : tc.getTimeDifference,\t\n",
        "\t'get_time_zone' : tc.getTimezone,\n",
        "\t'point_of_interest' : gi.get_point_of_interest,\n",
        "\t'forecast' : gi.get_weather,\n",
        "\t'wit$get_temperature' : gi.get_temperature,\n",
        "\t'wit$get_time' : tc.getLocalTime\n",
        "}\n",
        "\n",
        "witIntentResponseFormats = {\n",
        "\t'get_distance' : rf.getDistanceFormat,\n",
        "\t'get_time_difference' : rf.getTimeDifferenceFormat,\n",
        "\t'get_time_zone' : rf.getTimezoneFormat,\n",
        "\t'point_of_interest' : rf.getPointOfInterestFormat,\n",
        "\t'forecast' : rf.getWeatherFormat,\n",
        "\t'wit$get_temperature' : rf.getTemperatureFormat,\n",
        "\t'wit$get_time' : rf.getLocalTimeFormat\n",
        "}\n",
        "\n",
        "class ChatbotResponse(object):\n",
        "\n",
        "  def getResponse(question):\n",
        "    jsonData = wa.sendRequest(question)\n",
        "    #print(jsonData)\n",
        "\n",
        "    response = \"\"\n",
        "\n",
        "    intents = jsonData['intents']\n",
        "    entities = jsonData['entities']\n",
        "    traits = jsonData['traits']\n",
        "    #print('---------', entities['wit$location:location'][0]['value'])\n",
        "    if len(intents) == 0:\n",
        "      response = \"I'm sorry, I didn't quite understand that. Try asking for help to see the scope of my functionality, or try asking another question.\"\n",
        "    else:\n",
        "      for intent in intents:\n",
        "        #print(intent)\n",
        "        intentName = intent['name']\n",
        "        #print('---------', entities)\n",
        "        #print('+++++++++++', witIntents[intentName](jsonData))\n",
        "        response += witIntentResponseFormats[intentName](witIntents[intentName](entities), entities)\n",
        "\n",
        "    return response\n",
        "\n",
        "\n",
        "print(ChatbotResponse.getResponse(\"What is the weather forecast in Kelowna?\"))"
      ],
      "execution_count": null,
      "outputs": [
        {
          "output_type": "stream",
          "text": [
            "Success\n",
            "The weather in Kelowna is clear sky.\n"
          ],
          "name": "stdout"
        }
      ]
    },
    {
      "cell_type": "code",
      "metadata": {
        "colab": {
          "base_uri": "https://localhost:8080/"
        },
        "id": "ZSovsJtwptVx",
        "outputId": "0c7abaa0-c71a-40a2-867c-c4539465ab3b"
      },
      "source": [
        "from datetime import datetime\n",
        "from datetime import timedelta\n",
        "import json \n",
        "import requests\n",
        "\n",
        "URL = \"https://api.wit.ai/message\"\n",
        "API_KEY = \"6LLX376UX4FWFSX5KVNLSRPCXSECLGXE\"\n",
        "headers  = {\n",
        "\t\"Authorization\" : \"Bearer \" + API_KEY\n",
        "}\n",
        "\n",
        "class WitAPI(object):\n",
        "\n",
        "\tdef sendRequest(self, question):\n",
        "\t\tdate = datetime.now()\n",
        "\t\tdate = date.strftime(\"%Y%m%d\")\n",
        "\t\tresp = requests.get(URL + \"?v=\" + date + \"&q=\" + question, headers = headers)\n",
        "\n",
        "\t\tif resp.status_code != 200:\n",
        "\t\t    print('error: ' + str(resp.status_code))\n",
        "\t\t    return None\n",
        "\t\telse:\n",
        "\t\t    print('Success')\n",
        "\t\t    return resp.json()\n",
        "\n",
        "wa.sendRequest('What is the weather forecast in Kelowna?')\n",
        "wa.sendRequest('What is the weather forecast in Kelowna and Toronto?')"
      ],
      "execution_count": null,
      "outputs": [
        {
          "output_type": "stream",
          "text": [
            "Success\n",
            "Success\n"
          ],
          "name": "stdout"
        },
        {
          "output_type": "execute_result",
          "data": {
            "text/plain": [
              "{'entities': {'wit$location:location': [{'body': 'Kelowna',\n",
              "    'confidence': 0.9945,\n",
              "    'end': 39,\n",
              "    'entities': [],\n",
              "    'id': '184461976774247',\n",
              "    'name': 'wit$location',\n",
              "    'role': 'location',\n",
              "    'start': 32,\n",
              "    'suggested': True,\n",
              "    'type': 'value',\n",
              "    'value': 'Kelowna'}]},\n",
              " 'intents': [],\n",
              " 'text': 'What is the weather forecast in Kelowna and Toronto?',\n",
              " 'traits': {}}"
            ]
          },
          "metadata": {
            "tags": []
          },
          "execution_count": 202
        }
      ]
    },
    {
      "cell_type": "code",
      "metadata": {
        "colab": {
          "base_uri": "https://localhost:8080/"
        },
        "id": "O0f0Eir3pFW7",
        "outputId": "ef2d9134-0daf-4dce-ccf3-6d828b322552"
      },
      "source": [
        "\"\"\"from lib.timezonefinder import TimezoneFinder\n",
        "from datetime import datetime\n",
        "from location import Location as lc\n",
        "from lib import pytz\"\"\"\n",
        "\n",
        "#! pip install timezonefinder[numba]\n",
        "from timezonefinder import TimezoneFinder\n",
        "from datetime import datetime\n",
        "import pytz\n",
        "\n",
        "\n",
        "class TimeChatbot(object):\n",
        "\n",
        "\tdef getTimezone(self, entities, place = None):\n",
        "\t\tif place is None:\n",
        "\t\t\ttimezones = []\n",
        "\t\t\tentities = entities['wit$location:location']\n",
        "\t\t\tfor location in entities:\n",
        "\t\t\t\tcoords = lc.getLocation(location['value'])\n",
        "\t\t\t\tlatitude = coords[0]\n",
        "\t\t\t\tlongitude = coords[1]\n",
        "\t\t\t\ttf = TimezoneFinder()\n",
        "\t\t\t\ttimezones.append(tf.timezone_at(lng=longitude, lat=latitude))\n",
        "\t\t\treturn timezones\n",
        "\t\telse:\n",
        "\t\t\tcoords = lc.getLocation(place)\n",
        "\t\t\tlatitude = coords[0]\n",
        "\t\t\tlongitude = coords[1]\n",
        "\t\t\ttf = TimezoneFinder()\n",
        "\t\t\treturn tf.timezone_at(lng=longitude, lat=latitude)\n",
        "\n",
        "\tdef getLocalTime(self, entities, place = None):\n",
        "\t\tlocationEntities = entities['wit$location:location']\n",
        "\t\tif place is None:\n",
        "\t\t\tdateTime = [] \n",
        "\t\t\tif len(locationEntities) == 0:\n",
        "\t\t\t\tdateTime.append(datetime.now())\n",
        "\t\t\telse:\n",
        "\t\t\t\ttimezoneList = self.getTimezone(entities)\n",
        "\t\t\t\tfor timezone in timezoneList:\n",
        "\t\t\t\t\ttz = pytz.timezone(timezone)\n",
        "\t\t\t\t\tdateTime.append(datetime.now(tz))\n",
        "\t\t\treturn dateTime\n",
        "\t\telse:\n",
        "\t\t\ttimezone = self.getTimezone(entities, place)\n",
        "\t\t\ttz = pytz.timezone(timezone)\n",
        "\t\t\treturn datetime.now(tz)\n",
        "\n",
        "\tdef getTimeDifference(self, entities):\n",
        "\t\ttimes = self.getLocalTime(entities)\n",
        "\t\tif len(times) == 1:\n",
        "\t\t\ttimes.append(self.getLocalTime(entities, \"here\"))\n",
        "\n",
        "\t\treturn times[0] - times[1]\n",
        "\n",
        "# testing for this class:\n",
        "tmp = TimeChatbot()\n",
        "#tmp.getTimezone(entities['entities'])\n",
        "tmp.getTimezone(entities['entities'], 'New York')\n",
        "tmp.getLocalTime(entities['entities'], 'New York')\n",
        "tmp.getTimeDifference(entities['entities'])"
      ],
      "execution_count": null,
      "outputs": [
        {
          "output_type": "execute_result",
          "data": {
            "text/plain": [
              "datetime.timedelta(days=-1, seconds=86399, microseconds=834576)"
            ]
          },
          "metadata": {
            "tags": []
          },
          "execution_count": 201
        }
      ]
    },
    {
      "cell_type": "code",
      "metadata": {
        "colab": {
          "base_uri": "https://localhost:8080/",
          "height": 34
        },
        "id": "0Iyx0JxQo5XG",
        "outputId": "fea444a3-f765-418c-ed55-2b9b506ae0f4"
      },
      "source": [
        "\n",
        "\n",
        "class ResponseFormat(object):\n",
        "\tdef getDistanceFormat(self, distance, entities):\n",
        "\t\tentities = entities['wit$location:location']\n",
        "\t\tplace1 = entities[0]['value']\n",
        "\t\tif len(entities) == 1:\n",
        "\t\t\treturn \"The distance to \" + place1 + \" is \" + str(distance) + \"km.\"\n",
        "\t\telse:\n",
        "\t\t\tplace2 = entities[1]['value']\n",
        "\t\t\treturn \"The distance between \" + place1 + \" and \" + place2 + \" is \" + str(distance) + \"km.\"\n",
        "\n",
        "\tdef getTimezoneFormat(self, timezone, entities):\n",
        "\t\tentities = entities['wit$location:location']\n",
        "\t\tplace = entities[0]['value']\n",
        "\t\treturn \"The time zone at \" + place + \" is \" + timezone + \".\"\n",
        "\n",
        "\tdef getLocalTimeFormat(self, time, entities):\n",
        "\t\tentities = entities['wit$location:location']\n",
        "\t\tresponse = \"\"\n",
        "\t\ti = 0\n",
        "\t\tfor location in [entities[0]['value']]: # there may be some problems\n",
        "\t\t\tresponse += \"The time in \" + location + \" is \" + str(time[i]) + \".\\n\"\n",
        "\t\t\ti = i + 1\n",
        "\t\treturn response\n",
        "\n",
        "\tdef getTimeDifferenceFormat(self, time, entities):\n",
        "\t\tentities = entities['wit$location:location']\n",
        "\t\tif len(entities) == 1:\n",
        "\t\t\treturn \"The difference in time from here to \" + entities[0]['value'] + \" is \" + str(time) + \".\"\n",
        "\t\telse:\n",
        "\t\t\treturn \"The difference in time between \" + entities[0]['value'] + \" and \" + entities[1]['value'] + \" is \" + str(time) + \".\"\n",
        "\n",
        "\tdef getTemperatureFormat(self, temps, entities):\n",
        "\t\tentities = entities['wit$location:location']\n",
        "\t\tresponse = \"\"\n",
        "\t\ti = 0\n",
        "\t\tfor location in entities:\n",
        "\t\t\tresponse += \"The temperature in \" + location['value'] + \" is \" + str(temps[i]['temp']) + \" degrees celcius.\\n\"\n",
        "\t\t\ti = i + 1\n",
        "\t\treturn response\n",
        "\n",
        "\tdef getWeatherFormat(self, weather, entities):\n",
        "\t\tentities = entities['wit$location:location']\n",
        "\t\treturn \"The weather in \" + entities[0]['value'] + \" is \" + str(weather) + \".\"\n",
        "\n",
        "\tdef getPointOfInterestFormat(self, POI, entities):\n",
        "\t\tentities = entities['wit$location:location']\n",
        "\t\tresponse = \"The POIs in \" + entities[0]['value'] + \" are \"\n",
        "\t\tfor poi in POI:\n",
        "\t\t\tstringsplitpoint = poi.find(', ') + 2\n",
        "\t\t\tresponse += poi[stringsplitpoint:poi.find(',', stringsplitpoint+1)] + \", \"\n",
        "\t\tresponse = response[:-2]\n",
        "\t\tresponse += \".\"\n",
        "\t\treturn response\n",
        "\n",
        "# test for this class:\n",
        "tmp = ResponseFormat()\n",
        "tmp.getDistanceFormat(1000, entities['entities'])\n",
        "tmp.getTimezoneFormat('Toronto timezone', entities['entities'])\n",
        "time01 = ['06:06:00', '12:00:00','06:06:00', '12:00:00']\n",
        "tmp.getLocalTimeFormat(time01, entities['entities'])\n",
        "tmp.getTimeDifferenceFormat('1 day', entities['entities'])\n",
        "temp01 = [{'feels_like': -7.35,\n",
        "  'temp': -3.52,\n",
        "  'temp_kf': None,\n",
        "  'temp_max': -2.78,\n",
        "  'temp_min': -4.0}]\n",
        "#print(temp01)\n",
        "tmp.getTemperatureFormat(temp01, entities['entities'])\n",
        "tmp.getWeatherFormat('clear sky', entities['entities'])\n",
        "poi01 = ['distance: 113, Kelowna Cruises, 238 Queensway, Kelowna, BC V1Y, Canada',\n",
        " 'distance: 116, Hydrofly Kelowna, 230 Queensway, Kelowna, BC V1Y, Canada',\n",
        " 'distance: 124, Kelownacruises - Lake, 239 Queensway, Kelowna, BC V1Y, Canada',\n",
        " 'distance: 140, Okanagan Heritage Museum, 470 Queensway, Kelowna, BC V1Y, Canada',\n",
        " 'distance: 140, Okanagan Heritage Museum, 470 Queensway, Kelowna, BC V1Y, Canada']\n",
        "#print(poi01)\n",
        "tmp.getPointOfInterestFormat(poi01, entities['entities'])\n"
      ],
      "execution_count": null,
      "outputs": [
        {
          "output_type": "execute_result",
          "data": {
            "application/vnd.google.colaboratory.intrinsic+json": {
              "type": "string"
            },
            "text/plain": [
              "'The POIs in Kelowna are Kelowna Cruises, Hydrofly Kelowna, Kelownacruises - Lake, Okanagan Heritage Museum, Okanagan Heritage Museum.'"
            ]
          },
          "metadata": {
            "tags": []
          },
          "execution_count": 198
        }
      ]
    },
    {
      "cell_type": "code",
      "metadata": {
        "colab": {
          "base_uri": "https://localhost:8080/"
        },
        "id": "r4oFTycfnlQ4",
        "outputId": "f6c8c94e-786a-441d-bce4-cc8e2b3b99cd"
      },
      "source": [
        "\"\"\"from lib.geopy.geocoders import Nominatim\n",
        "from lib.geopy import distance\n",
        "from lib import ipregistry\"\"\"\n",
        "#! pip install ipregistry\n",
        "from ipregistry import IpregistryClient\n",
        "from geopy.geocoders import Nominatim\n",
        "import geopy.distance\n",
        "\n",
        "class Location(object):\n",
        "\n",
        "  def __init__(self, place = None):\n",
        "    self.lat = 0\n",
        "    self.long = 0\n",
        "    if place is None or place == 'here' or place == 'me':\n",
        "      #client = ipregistry.IpregistryClient(\"fs9pbuwmnx5r2g\", cache=ipregistry.DefaultCache(maxsize=2048, ttl=600))  \n",
        "      client = IpregistryClient(\"fs9pbuwmnx5r2g\")\n",
        "      ipInfo = client.lookup()\n",
        "      #print(ipInfo)\n",
        "      self.lat = ipInfo.location.get(\"latitude\")\n",
        "      self.long = ipInfo.location.get(\"longitude\")\n",
        "    else:\n",
        "      geolocator = Nominatim(user_agent=\"chatbot\")\n",
        "      location = geolocator.geocode(place)\n",
        "      self.lat = location.latitude\n",
        "      self.long = location.longitude\n",
        "\n",
        "  def getLocation(self, place = None):\n",
        "    if place is None or place == 'here' or place == 'me':\n",
        "      #client = ipregistry.IpregistryClient(\"fs9pbuwmnx5r2g\", cache=ipregistry.DefaultCache(maxsize=2048, ttl=600))  \n",
        "      \"\"\"client = IpregistryClient(\"fs9pbuwmnx5r2g\")\n",
        "      ipInfo = client.lookup()\n",
        "      return (ipInfo.location.get(\"latitude\"), ipInfo.location.get(\"longitude\"))\"\"\"\n",
        "      return (self.lat, self.long)\n",
        "    else:\n",
        "      geolocator = Nominatim(user_agent=\"chatbot\")\n",
        "      location = geolocator.geocode(place)\n",
        "      return (location.latitude, location.longitude)\n",
        "\n",
        "  def distanceByLatLong(self, entities):\n",
        "    places = entities['wit$location:location']\n",
        "    #print('--------', len(places))\n",
        "    place1Coords = self.getLocation(places[0]['value']) # Kelowna\n",
        "    if len(places) == 1: # len(places) always 1\n",
        "      place2Coords = self.getLocation()\n",
        "    else:\n",
        "      place2Coords = self.getLocation(places[1]['value'])\n",
        "\n",
        "    return geopy.distance.distance(place1Coords, place2Coords).km\n",
        "\n",
        "# test for this class:\n",
        "tmp = Location('New York')\n",
        "tmp.getLocation() # to Kelowna\n",
        "#print(entities)\n",
        "tmp.distanceByLatLong(entities['entities'])"
      ],
      "execution_count": null,
      "outputs": [
        {
          "output_type": "execute_result",
          "data": {
            "text/plain": [
              "3648.980428105776"
            ]
          },
          "metadata": {
            "tags": []
          },
          "execution_count": 168
        }
      ]
    },
    {
      "cell_type": "code",
      "metadata": {
        "colab": {
          "base_uri": "https://localhost:8080/"
        },
        "id": "U-_NOPjQnSY-",
        "outputId": "ad8b89d7-d785-4c41-ae21-127a9a2a3231"
      },
      "source": [
        "#you should install the package firstly\n",
        "#!pip install pyowm \n",
        "\"\"\"from lib.pyowm import OWM\n",
        "from lib.pyowm.utils import config\n",
        "from lib.pyowm.utils import timestamps\"\"\"\n",
        "\n",
        "#!pip install pyowm \n",
        "from pyowm import OWM\n",
        "from pyowm.utils import config\n",
        "from pyowm.utils import timestamps\n",
        "import json \n",
        "import requests\n",
        "\n",
        "import json \n",
        "import requests\n",
        "#from location import Location as lc\n",
        "\n",
        "# you should go to this URL: https://home.openweathermap.org/api_keys\n",
        "# to create your own key if you want to use this API\n",
        "# more info about this API: https://openweathermap.org/api/one-call-api\n",
        "api_key = \"817d0ac612d439a9fe94c38f889fab28\"\n",
        "owm = OWM(api_key)\n",
        "mgr = owm.weather_manager()\n",
        "\n",
        "class GeoInfo(object):\n",
        "\n",
        "\n",
        "  def __init__(self, lat=43.6532, long=-79.3832):\n",
        "    self.lat = lat\n",
        "    self.long = long\n",
        "    self.observation = mgr.weather_at_coords(self.lat, self.long)\n",
        "    self.w = self.observation.weather\n",
        "  \n",
        "  def get_temperature(self, entities, lat=None, long=None, wtype='celsius'):\n",
        "    locationEntities = entities['wit$location:location']\n",
        "    temps = []\n",
        "    if len(locationEntities) == 0:\n",
        "      coords = lc.getLocation()\n",
        "      lat = coords[0]\n",
        "      long = coords[1]\n",
        "      temps.append(mgr.weather_at_coords(lat, long).weather.temperature(wtype))\n",
        "    else:\n",
        "      for location in locationEntities:\n",
        "        #print('==========', location['value'])\n",
        "        coords = lc.getLocation(location['value'])\n",
        "        lat = coords[0]\n",
        "        long = coords[1]\n",
        "        temps.append(mgr.weather_at_coords(lat, long).weather.temperature(wtype))\n",
        "    #observation = mgr.weather_at_coords(lat, long)\n",
        "    #w = observation.weather\n",
        "    # print(w.temperature('celsius'))\n",
        "    # w.to_dict()\n",
        "    return temps\n",
        "  '''\n",
        "  def get_temperature(self, name='Toronto'):\n",
        "    observation = mgr.weather_at_place(name)\n",
        "    w = observation.weather\n",
        "    print(w.temperature('celsius'))\n",
        "    return w.to_dict()\n",
        "  '''\n",
        "\n",
        "  def get_weather(self, entities, lat = 0, long = 0):\n",
        "    #print('===========')\n",
        "    locationEntities = entities['wit$location:location']\n",
        "    if len(locationEntities) == 0:\n",
        "      coords = lc.getLocation()\n",
        "      lat = coords[0]\n",
        "      long = coords[1]\n",
        "    else:\n",
        "      coords = lc.getLocation(locationEntities[0]['value'])\n",
        "      lat = coords[0]\n",
        "      long = coords[1]\n",
        "    return mgr.weather_at_coords(lat, long).weather.detailed_status\n",
        "  \n",
        "  # limit, how many POIs you want to retrieve\n",
        "  def get_point_of_interest(self, entities, limit=5, latitude = 0, longitude = 0):\n",
        "    URL = \"https://discover.search.hereapi.com/v1/discover\"\n",
        "    locationEntities = entities['wit$location:location']\n",
        "    if len(locationEntities) == 0:\n",
        "      coords = lc.getLocation()\n",
        "      latitude = coords[0]\n",
        "      longitude = coords[1]\n",
        "    else:\n",
        "      coords = lc.getLocation(locationEntities[0]['value'])\n",
        "      latitude = coords[0]\n",
        "      longitude = coords[1]\n",
        "    # get your key from developer.here.com\n",
        "    poi_key = 'IIlHrKDojjhW90OB3KCEp6Xu0l8FX13NAdgFxMx4HbM' \n",
        "    query = 'tourist attractions'\n",
        "    #print(latitude, longitude)\n",
        "    PARAMS = {\n",
        "          'apikey':poi_key,\n",
        "          'q':query,\n",
        "          'limit': limit,\n",
        "          'at':'{},{}'.format(latitude,longitude)\n",
        "          } \n",
        "    # sending request and getting the response as JSON\n",
        "    r = requests.get(url = URL, params = PARAMS) \n",
        "    data = r.json()\n",
        "    items = data['items']\n",
        "    attractions = []\n",
        "    # parse retrieved attractions data\n",
        "    for it in items:\n",
        "      att = 'distance: ' + str(it['distance']) + ', ' + it['address']['label']\n",
        "      attractions.append(att)\n",
        "    return attractions\n",
        "\n",
        "# test for this class:\n",
        "entities = {'entities': {'wit$location:location': [{'body': 'Kelowna',\n",
        "    'confidence': 0.9962,\n",
        "    'end': 39,\n",
        "    'entities': [],\n",
        "    'id': '184461976774247',\n",
        "    'name': 'wit$location',\n",
        "    'role': 'location',\n",
        "    'start': 32,\n",
        "    'suggested': True,\n",
        "    'type': 'value',\n",
        "    'value': 'Kelowna'}]},\n",
        " 'intents': [{'confidence': 0.9459,\n",
        "   'id': '1062561500902258',\n",
        "   'name': 'forecast'}],\n",
        " 'text': 'What is the weather forecast in Kelowna?',\n",
        " 'traits': {}}\n",
        "\n",
        "#print(entities)\n",
        "tmp = GeoInfo()\n",
        "tmp.get_temperature(entities['entities'])\n",
        "tmp.get_weather(entities['entities'])\n",
        "tmp.get_point_of_interest(entities['entities'])"
      ],
      "execution_count": null,
      "outputs": [
        {
          "output_type": "execute_result",
          "data": {
            "text/plain": [
              "['distance: 113, Kelowna Cruises, 238 Queensway, Kelowna, BC V1Y, Canada',\n",
              " 'distance: 116, Hydrofly Kelowna, 230 Queensway, Kelowna, BC V1Y, Canada',\n",
              " 'distance: 124, Kelownacruises - Lake, 239 Queensway, Kelowna, BC V1Y, Canada',\n",
              " 'distance: 140, Okanagan Heritage Museum, 470 Queensway, Kelowna, BC V1Y, Canada',\n",
              " 'distance: 140, Okanagan Heritage Museum, 470 Queensway, Kelowna, BC V1Y, Canada']"
            ]
          },
          "metadata": {
            "tags": []
          },
          "execution_count": 183
        }
      ]
    }
  ]
}